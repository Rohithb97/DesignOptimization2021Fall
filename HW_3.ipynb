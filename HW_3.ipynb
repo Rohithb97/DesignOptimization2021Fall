{
  "nbformat": 4,
  "nbformat_minor": 0,
  "metadata": {
    "colab": {
      "name": "HW_3.ipynb",
      "provenance": [],
      "collapsed_sections": [],
      "authorship_tag": "ABX9TyN2hCwjINTg7BosXeKVEUQx",
      "include_colab_link": true
    },
    "kernelspec": {
      "name": "python3",
      "display_name": "Python 3"
    },
    "language_info": {
      "name": "python"
    }
  },
  "cells": [
    {
      "cell_type": "markdown",
      "metadata": {
        "id": "view-in-github",
        "colab_type": "text"
      },
      "source": [
        "<a href=\"https://colab.research.google.com/github/Rohithb97/DesignOptimization2021Fall/blob/main/HW_3.ipynb\" target=\"_parent\"><img src=\"https://colab.research.google.com/assets/colab-badge.svg\" alt=\"Open In Colab\"/></a>"
      ]
    },
    {
      "cell_type": "code",
      "metadata": {
        "colab": {
          "base_uri": "https://localhost:8080/"
        },
        "id": "1DobfeyLvk2t",
        "outputId": "9004458e-be1d-488d-a453-b6bc689befcc"
      },
      "source": [
        "#PROBLEM_2\n",
        "!pip install bayesian-optimization\n",
        "from bayes_opt import BayesianOptimization\n",
        "from matplotlib import pyplot\n",
        "\n",
        "def function(x, y):\n",
        "    return -((4-2.1*x**2+(x**4)/3)*x**2+x*y+(-4+4*y**2)*y**2)\n",
        "pbounds = {'x': (-3, 3), 'y': (-2, 2)}\n",
        "\n",
        "optimizer = BayesianOptimization(f=function,pbounds=pbounds,random_state=1)\n",
        "\n",
        "optimizer.maximize(init_points=2,n_iter=10)\n",
        "print(optimizer.max)"
      ],
      "execution_count": 17,
      "outputs": [
        {
          "output_type": "stream",
          "name": "stdout",
          "text": [
            "Requirement already satisfied: bayesian-optimization in /usr/local/lib/python3.7/dist-packages (1.2.0)\n",
            "Requirement already satisfied: scikit-learn>=0.18.0 in /usr/local/lib/python3.7/dist-packages (from bayesian-optimization) (0.22.2.post1)\n",
            "Requirement already satisfied: numpy>=1.9.0 in /usr/local/lib/python3.7/dist-packages (from bayesian-optimization) (1.19.5)\n",
            "Requirement already satisfied: scipy>=0.14.0 in /usr/local/lib/python3.7/dist-packages (from bayesian-optimization) (1.4.1)\n",
            "Requirement already satisfied: joblib>=0.11 in /usr/local/lib/python3.7/dist-packages (from scikit-learn>=0.18.0->bayesian-optimization) (1.0.1)\n",
            "|   iter    |  target   |     x     |     y     |\n",
            "-------------------------------------------------\n",
            "| \u001b[0m 1       \u001b[0m | \u001b[0m 0.265   \u001b[0m | \u001b[0m-0.4979  \u001b[0m | \u001b[0m 0.8813  \u001b[0m |\n",
            "| \u001b[0m 2       \u001b[0m | \u001b[0m-110.1   \u001b[0m | \u001b[0m-2.999   \u001b[0m | \u001b[0m-0.7907  \u001b[0m |\n",
            "| \u001b[0m 3       \u001b[0m | \u001b[0m-14.48   \u001b[0m | \u001b[0m-2.347   \u001b[0m | \u001b[0m-0.5245  \u001b[0m |\n",
            "| \u001b[0m 4       \u001b[0m | \u001b[0m-3.791   \u001b[0m | \u001b[0m 1.98    \u001b[0m | \u001b[0m 0.6406  \u001b[0m |\n",
            "| \u001b[0m 5       \u001b[0m | \u001b[0m-3.61    \u001b[0m | \u001b[0m-2.104   \u001b[0m | \u001b[0m 0.5152  \u001b[0m |\n",
            "| \u001b[0m 6       \u001b[0m | \u001b[0m-20.73   \u001b[0m | \u001b[0m-2.484   \u001b[0m | \u001b[0m 1.035   \u001b[0m |\n",
            "| \u001b[0m 7       \u001b[0m | \u001b[0m-8.23    \u001b[0m | \u001b[0m-0.6262  \u001b[0m | \u001b[0m-1.354   \u001b[0m |\n",
            "| \u001b[0m 8       \u001b[0m | \u001b[0m-12.31   \u001b[0m | \u001b[0m 2.326   \u001b[0m | \u001b[0m-0.2112  \u001b[0m |\n",
            "| \u001b[0m 9       \u001b[0m | \u001b[0m 0.06557 \u001b[0m | \u001b[0m-0.4062  \u001b[0m | \u001b[0m-0.5919  \u001b[0m |\n",
            "| \u001b[0m 10      \u001b[0m | \u001b[0m-0.4875  \u001b[0m | \u001b[0m 0.6594  \u001b[0m | \u001b[0m-0.4285  \u001b[0m |\n",
            "| \u001b[0m 11      \u001b[0m | \u001b[0m 0.262   \u001b[0m | \u001b[0m 0.3192  \u001b[0m | \u001b[0m 0.8082  \u001b[0m |\n",
            "| \u001b[0m 12      \u001b[0m | \u001b[0m-5.892   \u001b[0m | \u001b[0m-2.109   \u001b[0m | \u001b[0m-0.3733  \u001b[0m |\n",
            "=================================================\n",
            "{'target': 0.2650082867644827, 'params': {'x': -0.4978679717845562, 'y': 0.8812979737686324}}\n"
          ]
        }
      ]
    },
    {
      "cell_type": "code",
      "metadata": {
        "colab": {
          "base_uri": "https://localhost:8080/"
        },
        "id": "hfRayo7T0UQE",
        "outputId": "01aca455-a229-4916-e14d-f6dfb57591d3"
      },
      "source": [
        "#PROBLEM_1\n",
        "\n",
        "from matplotlib import pyplot\n",
        "import torch as t\n",
        "import numpy as np\n",
        "import math as m\n",
        "import matplotlib\n",
        "from torch.autograd import Variable\n",
        "import matplotlib.pyplot as plt\n",
        "import matplotlib.cm as cm\n",
        "\n",
        "x1=np.array([0.0,0.1,0.2,0.3,0.4,0.5,0.6,0.7,0.8,0.9,1.0])\n",
        "x2= 1 - (x1)\n",
        "p_i=np.array([28.1,34.4,36.7,36.9,36.8,36.7,36.5,35.4,32.9,27.7,17.5])\n",
        "\n",
        "T=20\n",
        "a1=8.07131\n",
        "a2=1730.63\n",
        "a3=233.426\n",
        "\n",
        "b1=7.43155\n",
        "b2=1554.679\n",
        "b3=240.337\n",
        "\n",
        "lpw= a1 - (a2/(T+a3))\n",
        "Ps_water= 10 ** lpw\n",
        "\n",
        "lpd= b1 - (b2/(T+b3))\n",
        "Ps_dioxane= 10 ** lpd\n",
        "\n",
        "x = Variable(t.tensor([1.0, 1.0]), requires_grad=True)\n",
        "s = 0.001\n",
        "\n",
        "\n",
        "res = []\n",
        "\n",
        "for i in range(100):  \n",
        "    for i in range(0,11):        \n",
        "        loss = (((x1[i]*t.exp(x[0]*((x[1]*x2[i])/(x[0]*x1[i]+x[1]*x2[i]))**2)*Ps_water) + (x2[i]*t.exp( x[1]*((x[0]*x1[i])/(x[0]*x1[i]+x[1]*x2[i]))**2)*Ps_dioxane)) - p_i[i])**2    \n",
        "        loss.backward()\n",
        "    x.grad.numpy()\n",
        "    with t.no_grad():\n",
        "       x -= s * x.grad       \n",
        "       x.grad.zero_()       \n",
        "print(x.data.numpy())\n",
        "print(loss.data.numpy())\n",
        "for i in range(0,11):\n",
        "  P_opt = ((x1[i]*m.exp(x[0]*((x[1]*x2[i])/(x[0]*x1[i]+x[1]*x2[i]))**2)*Ps_water) + (x2[i]*m.exp( x[1]*((x[0]*x1[i])/(x[0]*x1[i]+x[1]*x2[i]))**2)*Ps_dioxane))\n",
        "  print(\"P_Optimised\",i+1,\" =\",P_opt)\n",
        "  print(\"P_measured\",i+1,\" =\", p_i[i])\n",
        "  print(\"Error  P\",i+1,\"value =\" , p_i[i]-P_opt)"
      ],
      "execution_count": 16,
      "outputs": [
        {
          "output_type": "stream",
          "name": "stdout",
          "text": [
            "[1.9584178 1.6891868]\n",
            "0.00071549066\n",
            "P_Optimised 1  = 28.824099527405245\n",
            "P_measured 1  = 28.1\n",
            "Error  P 1 value = -0.7240995274052437\n",
            "P_Optimised 2  = 34.64431172371921\n",
            "P_measured 2  = 34.4\n",
            "Error  P 2 value = -0.24431172371921406\n",
            "P_Optimised 3  = 36.45296597609965\n",
            "P_measured 3  = 36.7\n",
            "Error  P 3 value = 0.24703402390035478\n",
            "P_Optimised 4  = 36.86731324695646\n",
            "P_measured 4  = 36.9\n",
            "Error  P 4 value = 0.03268675304353508\n",
            "P_Optimised 5  = 36.87400644103766\n",
            "P_measured 5  = 36.8\n",
            "Error  P 5 value = -0.07400644103766041\n",
            "P_Optimised 6  = 36.74983464830966\n",
            "P_measured 6  = 36.7\n",
            "Error  P 6 value = -0.04983464830965545\n",
            "P_Optimised 7  = 36.3904500350543\n",
            "P_measured 7  = 36.5\n",
            "Error  P 7 value = 0.10954996494569968\n",
            "P_Optimised 8  = 35.38482355380221\n",
            "P_measured 8  = 35.4\n",
            "Error  P 8 value = 0.015176446197791904\n",
            "P_Optimised 9  = 32.947786549186844\n",
            "P_measured 9  = 32.9\n",
            "Error  P 9 value = -0.04778654918684566\n",
            "P_Optimised 10  = 27.730002092297866\n",
            "P_measured 10  = 27.7\n",
            "Error  P 10 value = -0.030002092297866767\n",
            "P_Optimised 11  = 17.47325208459706\n",
            "P_measured 11  = 17.5\n",
            "Error  P 11 value = 0.026747915402939526\n"
          ]
        }
      ]
    }
  ]
}
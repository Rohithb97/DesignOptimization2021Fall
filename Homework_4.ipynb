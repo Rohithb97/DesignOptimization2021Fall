{
  "nbformat": 4,
  "nbformat_minor": 0,
  "metadata": {
    "colab": {
      "name": "Homework_4.ipynb",
      "provenance": [],
      "authorship_tag": "ABX9TyNgQZ99i2ky435AL202ruXn",
      "include_colab_link": true
    },
    "kernelspec": {
      "name": "python3",
      "display_name": "Python 3"
    },
    "language_info": {
      "name": "python"
    }
  },
  "cells": [
    {
      "cell_type": "markdown",
      "metadata": {
        "id": "view-in-github",
        "colab_type": "text"
      },
      "source": [
        "<a href=\"https://colab.research.google.com/github/Rohithb97/DesignOptimization2021Fall/blob/main/Homework_4.ipynb\" target=\"_parent\"><img src=\"https://colab.research.google.com/assets/colab-badge.svg\" alt=\"Open In Colab\"/></a>"
      ]
    },
    {
      "cell_type": "code",
      "metadata": {
        "colab": {
          "base_uri": "https://localhost:8080/",
          "height": 329
        },
        "id": "vtBYrH5LTFvm",
        "outputId": "2e4c1f48-31f5-4e4a-c012-8984b4e6bac6"
      },
      "source": [
        "import numpy as np\n",
        "import math\n",
        "from matplotlib import pyplot as plt\n",
        "\n",
        "\n",
        "def objfun(x): #Initial step\n",
        "    a1=x[0]\n",
        "    a2=x[1]\n",
        "    a3=x[2]\n",
        "    return a1**2+a2**2+a3**2\n",
        "\n",
        "\n",
        "#Derivatives\n",
        "\n",
        "\n",
        "def Pfpd(x):\n",
        "    return 2*x[0] \n",
        "\n",
        "\n",
        "def Pfps(x):\n",
        "    return np.array([2*x[1], 2*x[2]])\n",
        "\n",
        "\n",
        "def Phps(x):\n",
        "    return np.array([[2/5*x[1], 2/25*x[2]],[1, -1]])\n",
        "\n",
        "\n",
        "def Phpd(x):\n",
        "    return np.array([[x[0]/2],[1]])\n",
        "\n",
        "\n",
        "def Dfdd(x):  #Reduced gradient\n",
        "    #a1 = d; a2,a3=s\n",
        "    return Pfpd(x) - np.matmul( np.matmul(Pfps(x), np.linalg.inv(Phps(x))), Phpd(x) )\n",
        "\n",
        "\n",
        "def xeval(x,a,dfdd): #linesearch.\n",
        "    d_eval= (x[0]-a*dfdd)[0]\n",
        "    s_eval= x[1:3] + a* np.transpose( np.matmul(  np.matmul(np.linalg.inv(Phps(x)) , Phpd(x) ), np.transpose([Dfdd(x)]) ) )[0]\n",
        "    return np.append(d_eval,s_eval)\n",
        "\n",
        "\n",
        "def linesearch(dfdd, x):\n",
        "    b=1\n",
        "    c=.5\n",
        "    t=.3\n",
        "    while objfun(xeval(x,b,dfdd)) > (objfun(x) - b*t* dfdd**2):\n",
        "        b=c*b\n",
        "    return b\n",
        "\n",
        "\n",
        "def solve(x):  #Takes in intermediate x value [dk, sk0], gives final x value [dk, sk]\n",
        "    while np.linalg.norm(np.array([ [ x[0]**2/4 + x[1]**2/5 + x[2]**2/25 -1 ], [x[0]+x[1]-x[2] ] ]))  > e: #While |h| > e\n",
        "        phps=Phps(x)\n",
        "        skj1= np.transpose( np.transpose([x[1:3]]) - np.matmul( np.linalg.inv(phps), np.array([ [ x[0]**2/4 + x[1]**2/5 + x[2]**2/25 -1 ], [x[0]+x[1]-x[2] ] ])   ))  #Transposing in step 2.\n",
        "        x=np.append(x[0:1], np.transpose(skj1[0]))\n",
        "    return x\n",
        "        \n",
        "    \n",
        "        \n",
        "\n",
        "\n",
        "        \n",
        "# The Loop\n",
        "\n",
        "\n",
        "a1=0\n",
        "a3= 1/12 * ( (600-170*(a1**2))**(1/2) +10*a1)\n",
        "a2= a3-a1\n",
        "\n",
        "\n",
        "a0=np.array([a1, a2, a3])  # a2 and a3 are state variables\n",
        "\n",
        "\n",
        "e=10**(-3)\n",
        "\n",
        "\n",
        "x_store=[a0]\n",
        "err=[]\n",
        "\n",
        "\n",
        "\n",
        "\n",
        "while np.linalg.norm(Dfdd(x_store[-1])) > e:\n",
        "    x=x_store[-1]\n",
        "    dfdd=Dfdd(x)\n",
        "    err.append(math.log(np.linalg.norm(dfdd)))\n",
        "    b= linesearch(dfdd, x)\n",
        "    dk= x[0]- b*dfdd\n",
        "    sk0= x[1:3] + b* np.transpose(  np.matmul(np.matmul(np.linalg.inv(Phps(x)), Phpd(x)),  np.transpose(dfdd)) )\n",
        "    xk0=np.append(dk,sk0)\n",
        "    x = solve(xk0)\n",
        "    x_store.append(x)\n",
        "    \n",
        "print('Local solution exists at ' +str(x_store[-1]))\n",
        "plt.plot(err)\n",
        "plt.title('Convergence of error')\n",
        "plt.xlabel('Iteration')\n",
        "plt.ylabel('Log error')"
      ],
      "execution_count": 6,
      "outputs": [
        {
          "output_type": "stream",
          "name": "stdout",
          "text": [
            "Local solution exists at [-1.5739877   1.37736099 -0.19662671]\n"
          ]
        },
        {
          "output_type": "execute_result",
          "data": {
            "text/plain": [
              "Text(0, 0.5, 'Log error')"
            ]
          },
          "metadata": {},
          "execution_count": 6
        },
        {
          "output_type": "display_data",
          "data": {
            "image/png": "[encoded data removed]",
            "text/plain": [
              "<Figure size 432x288 with 1 Axes>"
            ]
          },
          "metadata": {
            "needs_background": "light"
          }
        }
      ]
    }
  ]
}